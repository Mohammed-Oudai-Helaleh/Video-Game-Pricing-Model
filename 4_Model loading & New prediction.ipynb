{
 "cells": [
  {
   "cell_type": "code",
   "execution_count": 67,
   "id": "8dce7fb2-4fe8-428f-9ee8-54b0cfa4e5b7",
   "metadata": {},
   "outputs": [],
   "source": [
    "import joblib"
   ]
  },
  {
   "cell_type": "code",
   "execution_count": 69,
   "id": "33ad35a4-6511-4016-900f-86316a8e04b1",
   "metadata": {},
   "outputs": [
    {
     "name": "stdout",
     "output_type": "stream",
     "text": [
      "Optimized Extra Trees model loaded successfully\n",
      "Optimized Random Forest model loaded successfully\n",
      "Optimized CatBoost model loaded successfully\n",
      "Optimized LightGBM model loaded successfully\n"
     ]
    }
   ],
   "source": [
    "# Load the models \n",
    "extra_trees_model = joblib.load(\"best_extra_trees.pkl\")\n",
    "print(\"Optimized Extra Trees model loaded successfully\")\n",
    "random_forest_model = joblib.load(\"best_rf_regressor.pkl\")\n",
    "print(\"Optimized Random Forest model loaded successfully\")\n",
    "cat_model = joblib.load(\"optimized_catboost_model.pkl\")\n",
    "print(\"Optimized CatBoost model loaded successfully\")\n",
    "lightgbm_model = joblib.load(\"best_lightgbm_model.pkl\")\n",
    "print(\"Optimized LightGBM model loaded successfully\")"
   ]
  },
  {
   "cell_type": "code",
   "execution_count": 71,
   "id": "f9746119-1657-4bd3-8ab5-8b9d11f3d816",
   "metadata": {},
   "outputs": [
    {
     "name": "stdout",
     "output_type": "stream",
     "text": [
      "Optimized Boosting model loaded successfully\n"
     ]
    }
   ],
   "source": [
    "optimized_boosting_model = joblib.load(\"optimized_boosting_model.pkl\")\n",
    "print(\"Optimized Boosting model loaded successfully\")"
   ]
  },
  {
   "cell_type": "code",
   "execution_count": 77,
   "id": "d494ff29-a9cb-4a7e-8f47-3081df40a2cc",
   "metadata": {},
   "outputs": [],
   "source": [
    "# input data\n",
    "#['mac', 'linux', 'tag_Other', 'tag_2D', 'tag_Action RPG', 'tag_Action Roguelike', 'tag_Anime',\n",
    "#'tag_Atmospheric', 'tag_Automobile Sim', 'tag_Base-Building', 'tag_Battle Royale', 'tag_Building', 'tag_Card Game', 'tag_Character Customization',\n",
    "#'tag_Choices Matter', 'tag_City Builder', 'tag_Classic', 'tag_Co-op', 'tag_Colony Sim', 'tag_Comedy', 'tag_Crime',\n",
    "#'tag_Cute', 'tag_Cyberpunk', 'tag_Dark Fantasy', 'tag_Difficult', 'tag_Driving', 'tag_Exploration', 'tag_FPS',\n",
    "#'tag_Fantasy', 'tag_Female Protagonist', 'tag_Fighting', 'tag_First-Person', 'tag_Free to Play', 'tag_Funny', 'tag_Gore',\n",
    "#'tag_Grand Strategy', 'tag_Great Soundtrack', 'tag_Hack and Slash', 'tag_Historical', 'tag_Horror', 'tag_Isometric', 'tag_Loot',\n",
    "#'tag_Looter Shooter', 'tag_MMORPG', 'tag_Management', 'tag_Medieval', 'tag_Military', 'tag_Multiplayer', 'tag_Nudity',\n",
    "#'tag_Online Co-Op', 'tag_Open World', 'tag_Open World Survival Craft', 'tag_Physics', 'tag_Pixel Graphics', 'tag_Platformer', 'tag_Post-apocalyptic',\n",
    "#'tag_Psychological Horror', 'tag_Puzzle', 'tag_Puzzle-Platformer', 'tag_PvP', 'tag_RTS', 'tag_Realistic', 'tag_Rogue-like',\n",
    "#'tag_Sandbox', 'tag_Sci-fi', 'tag_Sexual Content', 'tag_Shooter', 'tag_Singleplayer', 'tag_Space', 'tag_Stealth',\n",
    "#'tag_Story Rich', 'tag_Survival', 'tag_Survival Horror', 'tag_Tactical', 'tag_Third Person', 'tag_Third-Person Shooter', 'tag_Tower Defense',\n",
    "#'tag_Turn-Based', 'tag_Turn-Based Strategy', 'tag_VR', 'tag_War', 'tag_World War II', 'tag_Zombies', 'genre_Action',\n",
    "#'genre_Adventure', 'genre_Casual', 'genre_Early Access', 'genre_Free to Play', 'genre_Indie', 'genre_Massively Multiplayer', 'genre_RPG',\n",
    "#'genre_Racing', 'genre_Simulation', 'genre_Sports', 'genre_Strategy', 'genre_Other', 'supported_languages_count', 'full_audio_languages_count',\n",
    "#'review_category', 'review_count_category', 'log_achievements', 'log_ccu', 'log_owners_average']\n",
    "new_data = np.array([\n",
    "    [1, 1, 19, 1, 0, 0, 1,\n",
    "     0, 1, 0, 0, 0, 0, 1,\n",
    "     0, 1, 1, 1, 0, 0, 1,\n",
    "     1, 1, 1, 0, 0, 1, 1,\n",
    "     1, 0, 1, 1, 0, 0, 1,\n",
    "     1, 1, 0, 0, 0, 1, 1,\n",
    "     1, 0, 1, 0, 1, 0, 1,\n",
    "     1, 0, 0, 1, 0, 0, 1,\n",
    "     1, 0, 0, 0, 0, 1, 0,\n",
    "     1, 1, 0, 0, 0, 1, 1,\n",
    "     1, 0, 1, 0, 1, 0, 0,\n",
    "     1, 1, 1, 0, 0, 1, 1,\n",
    "     1, 1, 0, 1, 1, 1, 1,\n",
    "     0, 1, 1, 1, 1, 5, 13,\n",
    "     14, 3, 311, 125872, 2664375]\n",
    "])"
   ]
  },
  {
   "cell_type": "code",
   "execution_count": 79,
   "id": "8c19cc0e-f9c2-41bf-8edd-0b3190509203",
   "metadata": {},
   "outputs": [],
   "source": [
    "import numpy as np"
   ]
  },
  {
   "cell_type": "code",
   "execution_count": 81,
   "id": "7ddc9c81-47f6-49e6-8b8d-aaab19805d9c",
   "metadata": {},
   "outputs": [
    {
     "data": {
      "text/plain": [
       "array([[ 1,  1, 19,  1,  0,  0,  1,  0,  1,  0,  0,  0,  0,  1,  0,  1,\n",
       "         1,  1,  0,  0,  1,  1,  1,  1,  0,  0,  1,  1,  1,  0,  1,  1,\n",
       "         0,  0,  1,  1,  1,  0,  0,  0,  1,  1,  1,  0,  1,  0,  1,  0,\n",
       "         1,  1,  0,  0,  1,  0,  0,  1,  1,  0,  0,  0,  0,  1,  0,  1,\n",
       "         1,  0,  0,  0,  1,  1,  1,  0,  1,  0,  1,  0,  0,  1,  1,  1,\n",
       "         0,  0,  1,  1,  1,  1,  0,  1,  1,  1,  1,  0,  1,  1,  1,  1,\n",
       "         5, 13, 14,  3,  5, 11, 14]])"
      ]
     },
     "execution_count": 81,
     "metadata": {},
     "output_type": "execute_result"
    }
   ],
   "source": [
    "#apply log on avhivments, ccu, owners_average and update the new data\n",
    "new_data[:, -3:] = np.log1p(new_data[:, -3:])\n",
    "new_data"
   ]
  },
  {
   "cell_type": "code",
   "execution_count": 83,
   "id": "8983b2b4-e975-4715-bb37-a3037cbfe176",
   "metadata": {},
   "outputs": [
    {
     "name": "stdout",
     "output_type": "stream",
     "text": [
      "[[1.36008937 1.52696984 2.59016307 0.15896583]]\n"
     ]
    }
   ],
   "source": [
    "features = [\n",
    "    extra_trees_model.predict(new_data),\n",
    "    random_forest_model.predict(new_data),\n",
    "    cat_model.predict(new_data),\n",
    "    lightgbm_model.predict(new_data),\n",
    "]\n",
    "features = np.column_stack(features)  # Combine predictions into a single array\n",
    "print(features)"
   ]
  },
  {
   "cell_type": "code",
   "execution_count": 87,
   "id": "6d8dc7be-1407-4bb6-b33a-c949f23ccc42",
   "metadata": {},
   "outputs": [
    {
     "name": "stdout",
     "output_type": "stream",
     "text": [
      "[1.7884642]\n"
     ]
    }
   ],
   "source": [
    "prediction = optimized_boosting_model.predict(features)\n",
    "print(prediction)"
   ]
  },
  {
   "cell_type": "code",
   "execution_count": 89,
   "id": "93e3513f-d3b3-4889-a09d-80fe821b61c8",
   "metadata": {},
   "outputs": [],
   "source": [
    "def inverse_boxcox(boxcox_values, lambda_value):\n",
    "    if lambda_value == 0:\n",
    "        return np.exp(boxcox_values)  # If lambda is 0, use exponential\n",
    "    else:\n",
    "        return np.power(boxcox_values * lambda_value + 1, 1 / lambda_value) "
   ]
  },
  {
   "cell_type": "code",
   "execution_count": 91,
   "id": "20b6cdc8-928b-4261-aa74-af850f0e4497",
   "metadata": {},
   "outputs": [
    {
     "name": "stdout",
     "output_type": "stream",
     "text": [
      "[3.89718861]\n"
     ]
    }
   ],
   "source": [
    "real_price = inverse_boxcox(prediction, 0.3855872119446461)\n",
    "print(real_price)"
   ]
  }
 ],
 "metadata": {
  "kernelspec": {
   "display_name": "Python 3 (ipykernel)",
   "language": "python",
   "name": "python3"
  },
  "language_info": {
   "codemirror_mode": {
    "name": "ipython",
    "version": 3
   },
   "file_extension": ".py",
   "mimetype": "text/x-python",
   "name": "python",
   "nbconvert_exporter": "python",
   "pygments_lexer": "ipython3",
   "version": "3.12.7"
  }
 },
 "nbformat": 4,
 "nbformat_minor": 5
}
